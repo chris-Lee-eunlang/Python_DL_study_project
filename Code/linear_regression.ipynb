{
 "cells": [
  {
   "cell_type": "code",
   "execution_count": 1,
   "metadata": {},
   "outputs": [],
   "source": [
    "# 필요 라이브러리 선언\n",
    "%matplotlib inline\n",
    "import numpy as np\n",
    "import matplotlib.pyplot as plt"
   ]
  },
  {
   "cell_type": "code",
   "execution_count": 2,
   "metadata": {},
   "outputs": [
    {
     "name": "stderr",
     "output_type": "stream",
     "text": [
      "C:\\Users\\user\\AppData\\Local\\Temp\\ipykernel_11644\\1606399738.py:2: DeprecationWarning: `set_matplotlib_formats` is deprecated since IPython 7.23, directly use `matplotlib_inline.backend_inline.set_matplotlib_formats()`\n",
      "  set_matplotlib_formats('png', 'pdf')\n"
     ]
    }
   ],
   "source": [
    "from IPython.display import set_matplotlib_formats\n",
    "set_matplotlib_formats('png', 'pdf')"
   ]
  },
  {
   "cell_type": "code",
   "execution_count": 3,
   "metadata": {},
   "outputs": [
    {
     "name": "stdout",
     "output_type": "stream",
     "text": [
      "RM 데이터: (506, 1)\n",
      "더미 변수 추가 후의 RM 데이터: (506, 2)\n"
     ]
    }
   ],
   "source": [
    "import pandas as pd\n",
    "import numpy as np\n",
    "\n",
    "# 데이터 로드\n",
    "data_url = \"http://lib.stat.cmu.edu/datasets/boston\"\n",
    "raw_df = pd.read_csv(data_url, sep=\"\\s+\", skiprows=22, header=None)\n",
    "data = np.hstack([raw_df.values[::2, :], raw_df.values[1::2, :2]])\n",
    "yt = raw_df.values[1::2, 2]\n",
    "\n",
    "# 컬럼 이름 정의\n",
    "feature_names = [\n",
    "    'CRIM', 'ZN', 'INDUS', 'CHAS', 'NOX', 'RM', \n",
    "    'AGE', 'DIS', 'RAD', 'TAX', 'PTRATIO', 'B', 'LSTAT'\n",
    "]\n",
    "\n",
    "# RM 특성 추출\n",
    "rm_index = feature_names.index('RM')\n",
    "x_data = data[:, rm_index].reshape(-1, 1)\n",
    "print(\"RM 데이터:\", x_data.shape)\n",
    "\n",
    "# 더미 변수 추가\n",
    "x = np.insert(x_data, 0, 1.0, axis=1)\n",
    "print(\"더미 변수 추가 후의 RM 데이터:\", x.shape)"
   ]
  },
  {
   "cell_type": "code",
   "execution_count": 4,
   "metadata": {},
   "outputs": [
    {
     "name": "stdout",
     "output_type": "stream",
     "text": [
      "(506, 2)\n",
      "[[1.    6.575]\n",
      " [1.    6.421]\n",
      " [1.    7.185]\n",
      " [1.    6.998]\n",
      " [1.    7.147]]\n"
     ]
    }
   ],
   "source": [
    "# 입력 데이터 x를 표시 (더미 변수 포함)\n",
    "print(x.shape)\n",
    "print(x[:5,:])\n"
   ]
  },
  {
   "cell_type": "code",
   "execution_count": 5,
   "metadata": {},
   "outputs": [
    {
     "name": "stdout",
     "output_type": "stream",
     "text": [
      "[24.  21.6 34.7 33.4 36.2]\n"
     ]
    }
   ],
   "source": [
    "# 정답값 yt를 표시\n",
    "print(yt[:5])"
   ]
  },
  {
   "cell_type": "code",
   "execution_count": 6,
   "metadata": {},
   "outputs": [],
   "source": [
    "def pred(x, w):\n",
    "    return (x @ w)\n"
   ]
  },
  {
   "cell_type": "code",
   "execution_count": 7,
   "metadata": {},
   "outputs": [],
   "source": [
    "M = x.shape[0]\n",
    "D = x.shape[1]\n",
    "iters = 50000\n",
    "alpha = 0.01\n",
    "w = np.ones(D)\n",
    "history = np.zeros((0,2))"
   ]
  },
  {
   "cell_type": "code",
   "execution_count": 8,
   "metadata": {},
   "outputs": [
    {
     "name": "stdout",
     "output_type": "stream",
     "text": [
      "iter =0 loss = 154.224934\n",
      "iter =100 loss = 29.617518\n",
      "iter =200 loss = 29.431766\n",
      "iter =300 loss = 29.250428\n",
      "iter =400 loss = 29.073399\n",
      "iter =500 loss = 28.900577\n",
      "iter =600 loss = 28.731861\n",
      "iter =700 loss = 28.567154\n",
      "iter =800 loss = 28.406360\n",
      "iter =900 loss = 28.249388\n",
      "iter =1000 loss = 28.096145\n",
      "iter =1100 loss = 27.946544\n",
      "iter =1200 loss = 27.800498\n",
      "iter =1300 loss = 27.657922\n",
      "iter =1400 loss = 27.518733\n",
      "iter =1500 loss = 27.382852\n",
      "iter =1600 loss = 27.250200\n",
      "iter =1700 loss = 27.120700\n",
      "iter =1800 loss = 26.994277\n",
      "iter =1900 loss = 26.870858\n",
      "iter =2000 loss = 26.750372\n",
      "iter =2100 loss = 26.632749\n",
      "iter =2200 loss = 26.517921\n",
      "iter =2300 loss = 26.405821\n",
      "iter =2400 loss = 26.296385\n",
      "iter =2500 loss = 26.189549\n",
      "iter =2600 loss = 26.085252\n",
      "iter =2700 loss = 25.983433\n",
      "iter =2800 loss = 25.884034\n",
      "iter =2900 loss = 25.786997\n",
      "iter =3000 loss = 25.692265\n",
      "iter =3100 loss = 25.599784\n",
      "iter =3200 loss = 25.509501\n",
      "iter =3300 loss = 25.421363\n",
      "iter =3400 loss = 25.335320\n",
      "iter =3500 loss = 25.251320\n",
      "iter =3600 loss = 25.169317\n",
      "iter =3700 loss = 25.089263\n",
      "iter =3800 loss = 25.011111\n",
      "iter =3900 loss = 24.934815\n",
      "iter =4000 loss = 24.860333\n",
      "iter =4100 loss = 24.787621\n",
      "iter =4200 loss = 24.716636\n",
      "iter =4300 loss = 24.647338\n",
      "iter =4400 loss = 24.579687\n",
      "iter =4500 loss = 24.513643\n",
      "iter =4600 loss = 24.449168\n",
      "iter =4700 loss = 24.386226\n",
      "iter =4800 loss = 24.324779\n",
      "iter =4900 loss = 24.264792\n",
      "iter =5000 loss = 24.206231\n",
      "iter =5100 loss = 24.149061\n",
      "iter =5200 loss = 24.093250\n",
      "iter =5300 loss = 24.038764\n",
      "iter =5400 loss = 23.985574\n",
      "iter =5500 loss = 23.933647\n",
      "iter =5600 loss = 23.882954\n",
      "iter =5700 loss = 23.833466\n",
      "iter =5800 loss = 23.785154\n",
      "iter =5900 loss = 23.737990\n",
      "iter =6000 loss = 23.691946\n",
      "iter =6100 loss = 23.646997\n",
      "iter =6200 loss = 23.603115\n",
      "iter =6300 loss = 23.560276\n",
      "iter =6400 loss = 23.518456\n",
      "iter =6500 loss = 23.477629\n",
      "iter =6600 loss = 23.437772\n",
      "iter =6700 loss = 23.398862\n",
      "iter =6800 loss = 23.360877\n",
      "iter =6900 loss = 23.323794\n",
      "iter =7000 loss = 23.287592\n",
      "iter =7100 loss = 23.252251\n",
      "iter =7200 loss = 23.217749\n",
      "iter =7300 loss = 23.184068\n",
      "iter =7400 loss = 23.151186\n",
      "iter =7500 loss = 23.119086\n",
      "iter =7600 loss = 23.087749\n",
      "iter =7700 loss = 23.057156\n",
      "iter =7800 loss = 23.027290\n",
      "iter =7900 loss = 22.998134\n",
      "iter =8000 loss = 22.969671\n",
      "iter =8100 loss = 22.941884\n",
      "iter =8200 loss = 22.914758\n",
      "iter =8300 loss = 22.888275\n",
      "iter =8400 loss = 22.862423\n",
      "iter =8500 loss = 22.837184\n",
      "iter =8600 loss = 22.812545\n",
      "iter =8700 loss = 22.788492\n",
      "iter =8800 loss = 22.765010\n",
      "iter =8900 loss = 22.742086\n",
      "iter =9000 loss = 22.719707\n",
      "iter =9100 loss = 22.697860\n",
      "iter =9200 loss = 22.676532\n",
      "iter =9300 loss = 22.655710\n",
      "iter =9400 loss = 22.635383\n",
      "iter =9500 loss = 22.615540\n",
      "iter =9600 loss = 22.596168\n",
      "iter =9700 loss = 22.577256\n",
      "iter =9800 loss = 22.558793\n",
      "iter =9900 loss = 22.540770\n",
      "iter =10000 loss = 22.523174\n",
      "iter =10100 loss = 22.505997\n",
      "iter =10200 loss = 22.489228\n",
      "iter =10300 loss = 22.472857\n",
      "iter =10400 loss = 22.456875\n",
      "iter =10500 loss = 22.441273\n",
      "iter =10600 loss = 22.426042\n",
      "iter =10700 loss = 22.411173\n",
      "iter =10800 loss = 22.396657\n",
      "iter =10900 loss = 22.382485\n",
      "iter =11000 loss = 22.368651\n",
      "iter =11100 loss = 22.355146\n",
      "iter =11200 loss = 22.341961\n",
      "iter =11300 loss = 22.329089\n",
      "iter =11400 loss = 22.316524\n",
      "iter =11500 loss = 22.304257\n",
      "iter =11600 loss = 22.292281\n",
      "iter =11700 loss = 22.280590\n",
      "iter =11800 loss = 22.269177\n",
      "iter =11900 loss = 22.258035\n",
      "iter =12000 loss = 22.247158\n",
      "iter =12100 loss = 22.236539\n",
      "iter =12200 loss = 22.226173\n",
      "iter =12300 loss = 22.216053\n",
      "iter =12400 loss = 22.206173\n",
      "iter =12500 loss = 22.196528\n",
      "iter =12600 loss = 22.187113\n",
      "iter =12700 loss = 22.177921\n",
      "iter =12800 loss = 22.168947\n",
      "iter =12900 loss = 22.160187\n",
      "iter =13000 loss = 22.151635\n",
      "iter =13100 loss = 22.143286\n",
      "iter =13200 loss = 22.135135\n",
      "iter =13300 loss = 22.127179\n",
      "iter =13400 loss = 22.119411\n",
      "iter =13500 loss = 22.111828\n",
      "iter =13600 loss = 22.104424\n",
      "iter =13700 loss = 22.097197\n",
      "iter =13800 loss = 22.090142\n",
      "iter =13900 loss = 22.083254\n",
      "iter =14000 loss = 22.076530\n",
      "iter =14100 loss = 22.069966\n",
      "iter =14200 loss = 22.063558\n",
      "iter =14300 loss = 22.057301\n",
      "iter =14400 loss = 22.051194\n",
      "iter =14500 loss = 22.045232\n",
      "iter =14600 loss = 22.039411\n",
      "iter =14700 loss = 22.033729\n",
      "iter =14800 loss = 22.028182\n",
      "iter =14900 loss = 22.022766\n",
      "iter =15000 loss = 22.017479\n",
      "iter =15100 loss = 22.012318\n",
      "iter =15200 loss = 22.007280\n",
      "iter =15300 loss = 22.002361\n",
      "iter =15400 loss = 21.997559\n",
      "iter =15500 loss = 21.992871\n",
      "iter =15600 loss = 21.988295\n",
      "iter =15700 loss = 21.983827\n",
      "iter =15800 loss = 21.979466\n",
      "iter =15900 loss = 21.975208\n",
      "iter =16000 loss = 21.971051\n",
      "iter =16100 loss = 21.966993\n",
      "iter =16200 loss = 21.963032\n",
      "iter =16300 loss = 21.959164\n",
      "iter =16400 loss = 21.955389\n",
      "iter =16500 loss = 21.951703\n",
      "iter =16600 loss = 21.948105\n",
      "iter =16700 loss = 21.944592\n",
      "iter =16800 loss = 21.941163\n",
      "iter =16900 loss = 21.937815\n",
      "iter =17000 loss = 21.934547\n",
      "iter =17100 loss = 21.931357\n",
      "iter =17200 loss = 21.928242\n",
      "iter =17300 loss = 21.925201\n",
      "iter =17400 loss = 21.922233\n",
      "iter =17500 loss = 21.919335\n",
      "iter =17600 loss = 21.916506\n",
      "iter =17700 loss = 21.913744\n",
      "iter =17800 loss = 21.911048\n",
      "iter =17900 loss = 21.908416\n",
      "iter =18000 loss = 21.905846\n",
      "iter =18100 loss = 21.903337\n",
      "iter =18200 loss = 21.900888\n",
      "iter =18300 loss = 21.898498\n",
      "iter =18400 loss = 21.896164\n",
      "iter =18500 loss = 21.893885\n",
      "iter =18600 loss = 21.891661\n",
      "iter =18700 loss = 21.889490\n",
      "iter =18800 loss = 21.887370\n",
      "iter =18900 loss = 21.885300\n",
      "iter =19000 loss = 21.883280\n",
      "iter =19100 loss = 21.881308\n",
      "iter =19200 loss = 21.879382\n",
      "iter =19300 loss = 21.877502\n",
      "iter =19400 loss = 21.875667\n",
      "iter =19500 loss = 21.873876\n",
      "iter =19600 loss = 21.872127\n",
      "iter =19700 loss = 21.870420\n",
      "iter =19800 loss = 21.868753\n",
      "iter =19900 loss = 21.867126\n",
      "iter =20000 loss = 21.865537\n",
      "iter =20100 loss = 21.863987\n",
      "iter =20200 loss = 21.862473\n",
      "iter =20300 loss = 21.860995\n",
      "iter =20400 loss = 21.859552\n",
      "iter =20500 loss = 21.858144\n",
      "iter =20600 loss = 21.856768\n",
      "iter =20700 loss = 21.855426\n",
      "iter =20800 loss = 21.854116\n",
      "iter =20900 loss = 21.852836\n",
      "iter =21000 loss = 21.851587\n",
      "iter =21100 loss = 21.850368\n",
      "iter =21200 loss = 21.849178\n",
      "iter =21300 loss = 21.848016\n",
      "iter =21400 loss = 21.846881\n",
      "iter =21500 loss = 21.845774\n",
      "iter =21600 loss = 21.844693\n",
      "iter =21700 loss = 21.843637\n",
      "iter =21800 loss = 21.842607\n",
      "iter =21900 loss = 21.841601\n",
      "iter =22000 loss = 21.840619\n",
      "iter =22100 loss = 21.839661\n",
      "iter =22200 loss = 21.838725\n",
      "iter =22300 loss = 21.837811\n",
      "iter =22400 loss = 21.836919\n",
      "iter =22500 loss = 21.836049\n",
      "iter =22600 loss = 21.835199\n",
      "iter =22700 loss = 21.834369\n",
      "iter =22800 loss = 21.833559\n",
      "iter =22900 loss = 21.832768\n",
      "iter =23000 loss = 21.831996\n",
      "iter =23100 loss = 21.831242\n",
      "iter =23200 loss = 21.830506\n",
      "iter =23300 loss = 21.829788\n",
      "iter =23400 loss = 21.829087\n",
      "iter =23500 loss = 21.828402\n",
      "iter =23600 loss = 21.827734\n",
      "iter =23700 loss = 21.827081\n",
      "iter =23800 loss = 21.826444\n",
      "iter =23900 loss = 21.825822\n",
      "iter =24000 loss = 21.825215\n",
      "iter =24100 loss = 21.824623\n",
      "iter =24200 loss = 21.824044\n",
      "iter =24300 loss = 21.823480\n",
      "iter =24400 loss = 21.822928\n",
      "iter =24500 loss = 21.822390\n",
      "iter =24600 loss = 21.821864\n",
      "iter =24700 loss = 21.821351\n",
      "iter =24800 loss = 21.820851\n",
      "iter =24900 loss = 21.820362\n",
      "iter =25000 loss = 21.819884\n",
      "iter =25100 loss = 21.819419\n",
      "iter =25200 loss = 21.818964\n",
      "iter =25300 loss = 21.818520\n",
      "iter =25400 loss = 21.818086\n",
      "iter =25500 loss = 21.817663\n",
      "iter =25600 loss = 21.817250\n",
      "iter =25700 loss = 21.816846\n",
      "iter =25800 loss = 21.816453\n",
      "iter =25900 loss = 21.816068\n",
      "iter =26000 loss = 21.815693\n",
      "iter =26100 loss = 21.815327\n",
      "iter =26200 loss = 21.814969\n",
      "iter =26300 loss = 21.814620\n",
      "iter =26400 loss = 21.814279\n",
      "iter =26500 loss = 21.813946\n",
      "iter =26600 loss = 21.813622\n",
      "iter =26700 loss = 21.813304\n",
      "iter =26800 loss = 21.812995\n",
      "iter =26900 loss = 21.812693\n",
      "iter =27000 loss = 21.812398\n",
      "iter =27100 loss = 21.812110\n",
      "iter =27200 loss = 21.811828\n",
      "iter =27300 loss = 21.811554\n",
      "iter =27400 loss = 21.811286\n",
      "iter =27500 loss = 21.811024\n",
      "iter =27600 loss = 21.810769\n",
      "iter =27700 loss = 21.810519\n",
      "iter =27800 loss = 21.810276\n",
      "iter =27900 loss = 21.810038\n",
      "iter =28000 loss = 21.809806\n",
      "iter =28100 loss = 21.809580\n",
      "iter =28200 loss = 21.809359\n",
      "iter =28300 loss = 21.809143\n",
      "iter =28400 loss = 21.808932\n",
      "iter =28500 loss = 21.808727\n",
      "iter =28600 loss = 21.808526\n",
      "iter =28700 loss = 21.808330\n",
      "iter =28800 loss = 21.808138\n",
      "iter =28900 loss = 21.807952\n",
      "iter =29000 loss = 21.807769\n",
      "iter =29100 loss = 21.807591\n",
      "iter =29200 loss = 21.807417\n",
      "iter =29300 loss = 21.807248\n",
      "iter =29400 loss = 21.807082\n",
      "iter =29500 loss = 21.806920\n",
      "iter =29600 loss = 21.806762\n",
      "iter =29700 loss = 21.806608\n",
      "iter =29800 loss = 21.806458\n",
      "iter =29900 loss = 21.806311\n",
      "iter =30000 loss = 21.806168\n",
      "iter =30100 loss = 21.806028\n",
      "iter =30200 loss = 21.805891\n",
      "iter =30300 loss = 21.805757\n",
      "iter =30400 loss = 21.805627\n",
      "iter =30500 loss = 21.805500\n",
      "iter =30600 loss = 21.805376\n",
      "iter =30700 loss = 21.805255\n",
      "iter =30800 loss = 21.805136\n",
      "iter =30900 loss = 21.805021\n",
      "iter =31000 loss = 21.804908\n",
      "iter =31100 loss = 21.804798\n",
      "iter =31200 loss = 21.804691\n",
      "iter =31300 loss = 21.804586\n",
      "iter =31400 loss = 21.804483\n",
      "iter =31500 loss = 21.804383\n",
      "iter =31600 loss = 21.804286\n",
      "iter =31700 loss = 21.804190\n",
      "iter =31800 loss = 21.804097\n",
      "iter =31900 loss = 21.804007\n",
      "iter =32000 loss = 21.803918\n",
      "iter =32100 loss = 21.803831\n",
      "iter =32200 loss = 21.803747\n",
      "iter =32300 loss = 21.803664\n",
      "iter =32400 loss = 21.803584\n",
      "iter =32500 loss = 21.803505\n",
      "iter =32600 loss = 21.803429\n",
      "iter =32700 loss = 21.803354\n",
      "iter =32800 loss = 21.803281\n",
      "iter =32900 loss = 21.803209\n",
      "iter =33000 loss = 21.803139\n",
      "iter =33100 loss = 21.803071\n",
      "iter =33200 loss = 21.803005\n",
      "iter =33300 loss = 21.802940\n",
      "iter =33400 loss = 21.802877\n",
      "iter =33500 loss = 21.802815\n",
      "iter =33600 loss = 21.802755\n",
      "iter =33700 loss = 21.802696\n",
      "iter =33800 loss = 21.802638\n",
      "iter =33900 loss = 21.802582\n",
      "iter =34000 loss = 21.802527\n",
      "iter =34100 loss = 21.802474\n",
      "iter =34200 loss = 21.802422\n",
      "iter =34300 loss = 21.802371\n",
      "iter =34400 loss = 21.802321\n",
      "iter =34500 loss = 21.802272\n",
      "iter =34600 loss = 21.802225\n",
      "iter =34700 loss = 21.802179\n",
      "iter =34800 loss = 21.802133\n",
      "iter =34900 loss = 21.802089\n",
      "iter =35000 loss = 21.802046\n",
      "iter =35100 loss = 21.802004\n",
      "iter =35200 loss = 21.801963\n",
      "iter =35300 loss = 21.801923\n",
      "iter =35400 loss = 21.801884\n",
      "iter =35500 loss = 21.801846\n",
      "iter =35600 loss = 21.801808\n",
      "iter =35700 loss = 21.801772\n",
      "iter =35800 loss = 21.801736\n",
      "iter =35900 loss = 21.801702\n",
      "iter =36000 loss = 21.801668\n",
      "iter =36100 loss = 21.801635\n",
      "iter =36200 loss = 21.801602\n",
      "iter =36300 loss = 21.801571\n",
      "iter =36400 loss = 21.801540\n",
      "iter =36500 loss = 21.801510\n",
      "iter =36600 loss = 21.801481\n",
      "iter =36700 loss = 21.801452\n",
      "iter =36800 loss = 21.801424\n",
      "iter =36900 loss = 21.801397\n",
      "iter =37000 loss = 21.801370\n",
      "iter =37100 loss = 21.801344\n",
      "iter =37200 loss = 21.801319\n",
      "iter =37300 loss = 21.801294\n",
      "iter =37400 loss = 21.801270\n",
      "iter =37500 loss = 21.801246\n",
      "iter =37600 loss = 21.801223\n",
      "iter =37700 loss = 21.801201\n",
      "iter =37800 loss = 21.801179\n",
      "iter =37900 loss = 21.801157\n",
      "iter =38000 loss = 21.801136\n",
      "iter =38100 loss = 21.801116\n",
      "iter =38200 loss = 21.801096\n",
      "iter =38300 loss = 21.801076\n",
      "iter =38400 loss = 21.801057\n",
      "iter =38500 loss = 21.801039\n",
      "iter =38600 loss = 21.801021\n",
      "iter =38700 loss = 21.801003\n",
      "iter =38800 loss = 21.800986\n",
      "iter =38900 loss = 21.800969\n",
      "iter =39000 loss = 21.800952\n",
      "iter =39100 loss = 21.800936\n",
      "iter =39200 loss = 21.800921\n",
      "iter =39300 loss = 21.800905\n",
      "iter =39400 loss = 21.800890\n",
      "iter =39500 loss = 21.800876\n",
      "iter =39600 loss = 21.800861\n",
      "iter =39700 loss = 21.800848\n",
      "iter =39800 loss = 21.800834\n",
      "iter =39900 loss = 21.800821\n",
      "iter =40000 loss = 21.800808\n",
      "iter =40100 loss = 21.800795\n",
      "iter =40200 loss = 21.800783\n",
      "iter =40300 loss = 21.800771\n",
      "iter =40400 loss = 21.800759\n",
      "iter =40500 loss = 21.800748\n",
      "iter =40600 loss = 21.800736\n",
      "iter =40700 loss = 21.800725\n",
      "iter =40800 loss = 21.800715\n",
      "iter =40900 loss = 21.800704\n",
      "iter =41000 loss = 21.800694\n",
      "iter =41100 loss = 21.800684\n",
      "iter =41200 loss = 21.800674\n",
      "iter =41300 loss = 21.800665\n",
      "iter =41400 loss = 21.800656\n",
      "iter =41500 loss = 21.800647\n",
      "iter =41600 loss = 21.800638\n",
      "iter =41700 loss = 21.800629\n",
      "iter =41800 loss = 21.800621\n",
      "iter =41900 loss = 21.800613\n",
      "iter =42000 loss = 21.800605\n",
      "iter =42100 loss = 21.800597\n",
      "iter =42200 loss = 21.800589\n",
      "iter =42300 loss = 21.800582\n",
      "iter =42400 loss = 21.800575\n",
      "iter =42500 loss = 21.800567\n",
      "iter =42600 loss = 21.800561\n",
      "iter =42700 loss = 21.800554\n",
      "iter =42800 loss = 21.800547\n",
      "iter =42900 loss = 21.800541\n",
      "iter =43000 loss = 21.800534\n",
      "iter =43100 loss = 21.800528\n",
      "iter =43200 loss = 21.800522\n",
      "iter =43300 loss = 21.800516\n",
      "iter =43400 loss = 21.800511\n",
      "iter =43500 loss = 21.800505\n",
      "iter =43600 loss = 21.800500\n",
      "iter =43700 loss = 21.800494\n",
      "iter =43800 loss = 21.800489\n",
      "iter =43900 loss = 21.800484\n",
      "iter =44000 loss = 21.800479\n",
      "iter =44100 loss = 21.800474\n",
      "iter =44200 loss = 21.800470\n",
      "iter =44300 loss = 21.800465\n",
      "iter =44400 loss = 21.800461\n",
      "iter =44500 loss = 21.800456\n",
      "iter =44600 loss = 21.800452\n",
      "iter =44700 loss = 21.800448\n",
      "iter =44800 loss = 21.800444\n",
      "iter =44900 loss = 21.800440\n",
      "iter =45000 loss = 21.800436\n",
      "iter =45100 loss = 21.800432\n",
      "iter =45200 loss = 21.800428\n",
      "iter =45300 loss = 21.800425\n",
      "iter =45400 loss = 21.800421\n",
      "iter =45500 loss = 21.800418\n",
      "iter =45600 loss = 21.800414\n",
      "iter =45700 loss = 21.800411\n",
      "iter =45800 loss = 21.800408\n",
      "iter =45900 loss = 21.800405\n",
      "iter =46000 loss = 21.800402\n",
      "iter =46100 loss = 21.800399\n",
      "iter =46200 loss = 21.800396\n",
      "iter =46300 loss = 21.800393\n",
      "iter =46400 loss = 21.800390\n",
      "iter =46500 loss = 21.800387\n",
      "iter =46600 loss = 21.800385\n",
      "iter =46700 loss = 21.800382\n",
      "iter =46800 loss = 21.800380\n",
      "iter =46900 loss = 21.800377\n",
      "iter =47000 loss = 21.800375\n",
      "iter =47100 loss = 21.800372\n",
      "iter =47200 loss = 21.800370\n",
      "iter =47300 loss = 21.800368\n",
      "iter =47400 loss = 21.800366\n",
      "iter =47500 loss = 21.800363\n",
      "iter =47600 loss = 21.800361\n",
      "iter =47700 loss = 21.800359\n",
      "iter =47800 loss = 21.800357\n",
      "iter =47900 loss = 21.800355\n",
      "iter =48000 loss = 21.800354\n",
      "iter =48100 loss = 21.800352\n",
      "iter =48200 loss = 21.800350\n",
      "iter =48300 loss = 21.800348\n",
      "iter =48400 loss = 21.800346\n",
      "iter =48500 loss = 21.800345\n",
      "iter =48600 loss = 21.800343\n",
      "iter =48700 loss = 21.800342\n",
      "iter =48800 loss = 21.800340\n",
      "iter =48900 loss = 21.800338\n",
      "iter =49000 loss = 21.800337\n",
      "iter =49100 loss = 21.800336\n",
      "iter =49200 loss = 21.800334\n",
      "iter =49300 loss = 21.800333\n",
      "iter =49400 loss = 21.800331\n",
      "iter =49500 loss = 21.800330\n",
      "iter =49600 loss = 21.800329\n",
      "iter =49700 loss = 21.800327\n",
      "iter =49800 loss = 21.800326\n",
      "iter =49900 loss = 21.800325\n"
     ]
    }
   ],
   "source": [
    "#반복루프\n",
    "for k in range(iters):\n",
    "    #예측값계산\n",
    "    yp = pred(x,w)\n",
    "    #오차 계산\n",
    "    yd = yp - yt\n",
    "    #경사하강법 적용\n",
    "    w = w-alpha *(x.T @ yd)/M\n",
    "    #학습 곡선을 그리기 위한 데이터 계산 및 저장\n",
    "    if (k % 100 ==0):\n",
    "        loss = np.mean(yd **2)/2\n",
    "        history = np.vstack((history, np.array([k,loss])))\n",
    "        print(\"iter =%d loss = %f\" % (k, loss))\n",
    "    \n"
   ]
  },
  {
   "cell_type": "code",
   "execution_count": 9,
   "metadata": {},
   "outputs": [
    {
     "name": "stdout",
     "output_type": "stream",
     "text": [
      "손실함수 초깃값: 154.224934\n"
     ]
    }
   ],
   "source": [
    "#최종 손실함수 초깃값, 최종값\n",
    "print('손실함수 초깃값: %f' % history[0,1])"
   ]
  },
  {
   "cell_type": "code",
   "execution_count": 10,
   "metadata": {},
   "outputs": [
    {
     "name": "stdout",
     "output_type": "stream",
     "text": [
      "손실함수 최종값: 21.800325\n"
     ]
    }
   ],
   "source": [
    "print('손실함수 최종값: %f' % history[-1,1])"
   ]
  },
  {
   "cell_type": "code",
   "execution_count": 11,
   "metadata": {},
   "outputs": [
    {
     "name": "stdout",
     "output_type": "stream",
     "text": [
      "[[1.    3.561]\n",
      " [1.    8.78 ]]\n"
     ]
    }
   ],
   "source": [
    "#그래프 좌표값 계산\n",
    "xall = x[:,1].ravel()\n",
    "x1 = np.array([[1, xall.min()], [1, xall.max()]])\n",
    "y1 = pred(x1,w)\n",
    "print(x1)"
   ]
  },
  {
   "cell_type": "code",
   "execution_count": 12,
   "metadata": {},
   "outputs": [
    {
     "name": "stdout",
     "output_type": "stream",
     "text": [
      "[6.575 6.421 7.185 6.998 7.147 6.43  6.012 6.172 5.631 6.004 6.377 6.009\n",
      " 5.889 5.949 6.096 5.834 5.935 5.99  5.456 5.727 5.57  5.965 6.142 5.813\n",
      " 5.924 5.599 5.813 6.047 6.495 6.674 5.713 6.072 5.95  5.701 6.096 5.933\n",
      " 5.841 5.85  5.966 6.595 7.024 6.77  6.169 6.211 6.069 5.682 5.786 6.03\n",
      " 5.399 5.602 5.963 6.115 6.511 5.998 5.888 7.249 6.383 6.816 6.145 5.927\n",
      " 5.741 5.966 6.456 6.762 7.104 6.29  5.787 5.878 5.594 5.885 6.417 5.961\n",
      " 6.065 6.245 6.273 6.286 6.279 6.14  6.232 5.874 6.727 6.619 6.302 6.167\n",
      " 6.389 6.63  6.015 6.121 7.007 7.079 6.417 6.405 6.442 6.211 6.249 6.625\n",
      " 6.163 8.069 7.82  7.416 6.727 6.781 6.405 6.137 6.167 5.851 5.836 6.127\n",
      " 6.474 6.229 6.195 6.715 5.913 6.092 6.254 5.928 6.176 6.021 5.872 5.731\n",
      " 5.87  6.004 5.961 5.856 5.879 5.986 5.613 5.693 6.431 5.637 6.458 6.326\n",
      " 6.372 5.822 5.757 6.335 5.942 6.454 5.857 6.151 6.174 5.019 5.403 5.468\n",
      " 4.903 6.13  5.628 4.926 5.186 5.597 6.122 5.404 5.012 5.709 6.129 6.152\n",
      " 5.272 6.943 6.066 6.51  6.25  7.489 7.802 8.375 5.854 6.101 7.929 5.877\n",
      " 6.319 6.402 5.875 5.88  5.572 6.416 5.859 6.546 6.02  6.315 6.86  6.98\n",
      " 7.765 6.144 7.155 6.563 5.604 6.153 7.831 6.782 6.556 7.185 6.951 6.739\n",
      " 7.178 6.8   6.604 7.875 7.287 7.107 7.274 6.975 7.135 6.162 7.61  7.853\n",
      " 8.034 5.891 6.326 5.783 6.064 5.344 5.96  5.404 5.807 6.375 5.412 6.182\n",
      " 5.888 6.642 5.951 6.373 6.951 6.164 6.879 6.618 8.266 8.725 8.04  7.163\n",
      " 7.686 6.552 5.981 7.412 8.337 8.247 6.726 6.086 6.631 7.358 6.481 6.606\n",
      " 6.897 6.095 6.358 6.393 5.593 5.605 6.108 6.226 6.433 6.718 6.487 6.438\n",
      " 6.957 8.259 6.108 5.876 7.454 8.704 7.333 6.842 7.203 7.52  8.398 7.327\n",
      " 7.206 5.56  7.014 8.297 7.47  5.92  5.856 6.24  6.538 7.691 6.758 6.854\n",
      " 7.267 6.826 6.482 6.812 7.82  6.968 7.645 7.923 7.088 6.453 6.23  6.209\n",
      " 6.315 6.565 6.861 7.148 6.63  6.127 6.009 6.678 6.549 5.79  6.345 7.041\n",
      " 6.871 6.59  6.495 6.982 7.236 6.616 7.42  6.849 6.635 5.972 4.973 6.122\n",
      " 6.023 6.266 6.567 5.705 5.914 5.782 6.382 6.113 6.426 6.376 6.041 5.708\n",
      " 6.415 6.431 6.312 6.083 5.868 6.333 6.144 5.706 6.031 6.316 6.31  6.037\n",
      " 5.869 5.895 6.059 5.985 5.968 7.241 6.54  6.696 6.874 6.014 5.898 6.516\n",
      " 6.635 6.939 6.49  6.579 5.884 6.728 5.663 5.936 6.212 6.395 6.127 6.112\n",
      " 6.398 6.251 5.362 5.803 8.78  3.561 4.963 3.863 4.97  6.683 7.016 6.216\n",
      " 5.875 4.906 4.138 7.313 6.649 6.794 6.38  6.223 6.968 6.545 5.536 5.52\n",
      " 4.368 5.277 4.652 5.    4.88  5.39  5.713 6.051 5.036 6.193 5.887 6.471\n",
      " 6.405 5.747 5.453 5.852 5.987 6.343 6.404 5.349 5.531 5.683 4.138 5.608\n",
      " 5.617 6.852 5.757 6.657 4.628 5.155 4.519 6.434 6.782 5.304 5.957 6.824\n",
      " 6.411 6.006 5.648 6.103 5.565 5.896 5.837 6.202 6.193 6.38  6.348 6.833\n",
      " 6.425 6.436 6.208 6.629 6.461 6.152 5.935 5.627 5.818 6.406 6.219 6.485\n",
      " 5.854 6.459 6.341 6.251 6.185 6.417 6.749 6.655 6.297 7.393 6.728 6.525\n",
      " 5.976 5.936 6.301 6.081 6.701 6.376 6.317 6.513 6.209 5.759 5.952 6.003\n",
      " 5.926 5.713 6.167 6.229 6.437 6.98  5.427 6.162 6.484 5.304 6.185 6.229\n",
      " 6.242 6.75  7.061 5.762 5.871 6.312 6.114 5.905 5.454 5.414 5.093 5.983\n",
      " 5.983 5.707 5.926 5.67  5.39  5.794 6.019 5.569 6.027 6.593 6.12  6.976\n",
      " 6.794 6.03 ]\n"
     ]
    }
   ],
   "source": [
    "print(xall)"
   ]
  },
  {
   "cell_type": "code",
   "execution_count": 13,
   "metadata": {},
   "outputs": [
    {
     "data": {
      "application/pdf": "[encoded data removed]",
      "image/png": "[encoded data removed]",
      "text/plain": [
       "<Figure size 600x600 with 1 Axes>"
      ]
     },
     "metadata": {},
     "output_type": "display_data"
    }
   ],
   "source": [
    "#산점도와 회귀 직선 그리기\n",
    "plt.figure(figsize = (6,6))\n",
    "plt.scatter(x[:,1], yt, s=10, c='b')\n",
    "plt.xlabel('ROOM', fontsize = 14)\n",
    "plt.ylabel('PRICE', fontsize = 14)\n",
    "plt.plot(x1[:,1],y1, c='k')\n",
    "plt.show()"
   ]
  },
  {
   "cell_type": "code",
   "execution_count": 14,
   "metadata": {},
   "outputs": [],
   "source": [
    "LSTAT_index = feature_names.index('LSTAT')\n",
    "x_add = data[:, LSTAT_index].reshape(-1, 1)"
   ]
  },
  {
   "cell_type": "code",
   "execution_count": 15,
   "metadata": {},
   "outputs": [],
   "source": [
    "x2 = np.hstack((x,x_add))"
   ]
  },
  {
   "cell_type": "code",
   "execution_count": 16,
   "metadata": {},
   "outputs": [
    {
     "data": {
      "text/plain": [
       "array([[1.   , 6.575, 4.98 ],\n",
       "       [1.   , 6.421, 9.14 ],\n",
       "       [1.   , 7.185, 4.03 ],\n",
       "       ...,\n",
       "       [1.   , 6.976, 5.64 ],\n",
       "       [1.   , 6.794, 6.48 ],\n",
       "       [1.   , 6.03 , 7.88 ]])"
      ]
     },
     "execution_count": 16,
     "metadata": {},
     "output_type": "execute_result"
    }
   ],
   "source": [
    "x2"
   ]
  },
  {
   "cell_type": "code",
   "execution_count": 17,
   "metadata": {},
   "outputs": [
    {
     "data": {
      "text/plain": [
       "(506, 3)"
      ]
     },
     "execution_count": 17,
     "metadata": {},
     "output_type": "execute_result"
    }
   ],
   "source": [
    "x2.shape"
   ]
  },
  {
   "cell_type": "code",
   "execution_count": 18,
   "metadata": {},
   "outputs": [],
   "source": [
    "#데이터 전체건수\n",
    "M = x2.shape[0]"
   ]
  },
  {
   "cell_type": "code",
   "execution_count": 19,
   "metadata": {},
   "outputs": [],
   "source": [
    "#입력 데이터의 차원 수(더미 변수 포함)\n",
    "D = x2.shape[1]"
   ]
  },
  {
   "cell_type": "code",
   "execution_count": 20,
   "metadata": {},
   "outputs": [],
   "source": [
    "#반복횟수\n",
    "iters = 2000"
   ]
  },
  {
   "cell_type": "code",
   "execution_count": 21,
   "metadata": {},
   "outputs": [],
   "source": [
    "#학습률\n",
    "alpha = 0.001"
   ]
  },
  {
   "cell_type": "code",
   "execution_count": 29,
   "metadata": {},
   "outputs": [],
   "source": [
    "#가중치 벡터의 초깃값(모든 값을 1로 한다.)y = w 506*3\n",
    "w = np.ones(D)\n"
   ]
  },
  {
   "cell_type": "code",
   "execution_count": 28,
   "metadata": {},
   "outputs": [],
   "source": [
    "#평가 결과 기록(손실함숫값만 기록)\n",
    "history = np.zeros((0,2))"
   ]
  },
  {
   "cell_type": "code",
   "execution_count": 30,
   "metadata": {},
   "outputs": [
    {
     "name": "stdout",
     "output_type": "stream",
     "text": [
      "iter = 0 loss =112.063982\n",
      "iter = 100 loss =25.358934\n",
      "iter = 200 loss =16.391055\n",
      "iter = 300 loss =15.403015\n",
      "iter = 400 loss =15.294135\n",
      "iter = 500 loss =15.282114\n",
      "iter = 600 loss =15.280764\n",
      "iter = 700 loss =15.280589\n",
      "iter = 800 loss =15.280544\n",
      "iter = 900 loss =15.280514\n",
      "iter = 1000 loss =15.280485\n",
      "iter = 1100 loss =15.280456\n",
      "iter = 1200 loss =15.280428\n",
      "iter = 1300 loss =15.280399\n",
      "iter = 1400 loss =15.280371\n",
      "iter = 1500 loss =15.280342\n",
      "iter = 1600 loss =15.280314\n",
      "iter = 1700 loss =15.280285\n",
      "iter = 1800 loss =15.280257\n",
      "iter = 1900 loss =15.280228\n"
     ]
    }
   ],
   "source": [
    "#반복 루프\n",
    "for k in range(iters):\n",
    "  #예측값 계산\n",
    "  yp = pred(x2, w)\n",
    "  #오차 계산\n",
    "  yd = yp-yt\n",
    "  #경사하강법 적용\n",
    "  w = w -alpha * (x2.T @ yd) / M\n",
    "  if k % 100 == 0:\n",
    "  #손실함숫값의 계산\n",
    "    loss = np.mean(yd ** 2)/2\n",
    "    history = np.vstack((history, np.array([k,loss])))\n",
    "    print(\"iter = %d loss =%f\" % (k, loss))\n",
    "  "
   ]
  },
  {
   "cell_type": "code",
   "execution_count": 31,
   "metadata": {},
   "outputs": [
    {
     "data": {
      "application/pdf": "[encoded data removed]",
      "image/png": "[encoded data removed]",
      "text/plain": [
       "<Figure size 640x480 with 1 Axes>"
      ]
     },
     "metadata": {},
     "output_type": "display_data"
    }
   ],
   "source": [
    "plt.plot(history[:,0],history[:,1])\n",
    "plt.show()"
   ]
  },
  {
   "cell_type": "code",
   "execution_count": null,
   "metadata": {},
   "outputs": [],
   "source": []
  }
 ],
 "metadata": {
  "kernelspec": {
   "display_name": "py38",
   "language": "python",
   "name": "python3"
  },
  "language_info": {
   "codemirror_mode": {
    "name": "ipython",
    "version": 3
   },
   "file_extension": ".py",
   "mimetype": "text/x-python",
   "name": "python",
   "nbconvert_exporter": "python",
   "pygments_lexer": "ipython3",
   "version": "3.8.20"
  }
 },
 "nbformat": 4,
 "nbformat_minor": 2
}
